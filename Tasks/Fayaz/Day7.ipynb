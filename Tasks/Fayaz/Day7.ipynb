{
  "nbformat": 4,
  "nbformat_minor": 0,
  "metadata": {
    "colab": {
      "name": "Day7.ipynb",
      "provenance": []
    },
    "kernelspec": {
      "display_name": "Python 3",
      "name": "python3"
    },
    "language_info": {
      "name": "python"
    }
  },
  "cells": [
    {
      "cell_type": "code",
      "metadata": {
        "id": "ZWXvaIZVEdr5"
      },
      "source": [
        "# imports\n",
        "\n",
        "import keras\n",
        "from keras.datasets import mnist\n",
        "from keras.models import Sequential\n",
        "from keras.layers import Dense, Dropout, Flatten\n",
        "from keras.layers import Conv2D, MaxPooling2D\n",
        "from keras import backend as K"
      ],
      "execution_count": null,
      "outputs": []
    },
    {
      "cell_type": "code",
      "metadata": {
        "id": "QkZIpbRfEeky"
      },
      "source": [
        "# Hyperparameters\n",
        "\n",
        "num_classes = 10\n",
        "batch_size = 128\n",
        "epochs = 12"
      ],
      "execution_count": null,
      "outputs": []
    },
    {
      "cell_type": "code",
      "metadata": {
        "colab": {
          "base_uri": "https://localhost:8080/"
        },
        "id": "DrZjUTJcEih9",
        "outputId": "ae5883f2-6d2e-438d-dc78-dc06954cc2b3"
      },
      "source": [
        "# Image Resolution\n",
        "\n",
        "img_rows, img_cols = 28, 28\n",
        "\n",
        "# Loading the data.\n",
        "\n",
        "(x_train, y_train), (x_test, y_test) = mnist.load_data()"
      ],
      "execution_count": null,
      "outputs": [
        {
          "name": "stdout",
          "output_type": "stream",
          "text": [
            "Downloading data from https://storage.googleapis.com/tensorflow/tf-keras-datasets/mnist.npz\n",
            "11493376/11490434 [==============================] - 0s 0us/step\n"
          ]
        }
      ]
    },
    {
      "cell_type": "code",
      "metadata": {
        "colab": {
          "base_uri": "https://localhost:8080/"
        },
        "id": "WJ2HzRZqEmtN",
        "outputId": "b275341d-2de6-40b4-e46d-ccbb1e6d9cc6"
      },
      "source": [
        "# Preparing the data\n",
        "\n",
        "if K.image_data_format() == 'channels_first':\n",
        "    x_train = x_train.reshape(x_train.shape[0], 1, img_rows, img_cols)\n",
        "    x_test = x_test.reshape(x_test.shape[0], 1, img_rows, img_cols)\n",
        "    input_shape = (1, img_rows, img_cols)\n",
        "else:\n",
        "    x_train = x_train.reshape(x_train.shape[0], img_rows, img_cols, 1)\n",
        "    x_test = x_test.reshape(x_test.shape[0], img_rows, img_cols, 1)\n",
        "    input_shape = (img_rows, img_cols, 1)\n",
        "\n",
        "\n",
        "x_train = x_train.astype('float32')\n",
        "x_test = x_test.astype('float32')\n",
        "x_train /= 255\n",
        "x_test /= 255\n",
        "print('x_train shape:', x_train.shape)\n",
        "print(x_train.shape[0], 'train samples')\n",
        "print(x_test.shape[0], 'test samples')\n",
        "\n",
        "y_train = keras.utils.to_categorical(y_train, num_classes)\n",
        "y_test = keras.utils.to_categorical(y_test, num_classes)"
      ],
      "execution_count": null,
      "outputs": [
        {
          "name": "stdout",
          "output_type": "stream",
          "text": [
            "x_train shape: (60000, 28, 28, 1)\n",
            "60000 train samples\n",
            "10000 test samples\n"
          ]
        }
      ]
    },
    {
      "cell_type": "code",
      "metadata": {
        "id": "aJlBmUb6EuKw"
      },
      "source": [
        "# Creating the Model \n",
        "\n",
        "model = Sequential()\n",
        "model.add(Conv2D(32, kernel_size=(3, 3),activation='relu',input_shape=input_shape))\n",
        "model.add(Conv2D(64, (3, 3), activation='relu'))\n",
        "model.add(MaxPooling2D(pool_size=(2, 2)))\n",
        "model.add(Dropout(0.25))\n",
        "model.add(Flatten())\n",
        "model.add(Dense(128, activation='relu'))\n",
        "model.add(Dropout(0.5))\n",
        "model.add(Dense(num_classes, activation='softmax'))\n",
        "model.compile(loss=keras.losses.categorical_crossentropy,\n",
        "              optimizer=keras.optimizers.Adadelta(),\n",
        "              metrics=['accuracy'])\n"
      ],
      "execution_count": null,
      "outputs": []
    },
    {
      "cell_type": "code",
      "metadata": {
        "colab": {
          "background_save": true,
          "base_uri": "https://localhost:8080/"
        },
        "id": "Bc_cMMaEEzXv",
        "outputId": "84764596-f3c7-4187-a5e0-8fc84d5c6c66"
      },
      "source": [
        "# Training the Model\n",
        "\n",
        "model.fit(x_train, y_train,\n",
        "          batch_size=batch_size,\n",
        "          epochs=epochs,\n",
        "          verbose=1,\n",
        "          validation_data=(x_test, y_test))\n"
      ],
      "execution_count": null,
      "outputs": [
        {
          "name": "stdout",
          "output_type": "stream",
          "text": [
            "Epoch 1/12\n",
            "469/469 [==============================] - 141s 300ms/step - loss: 2.3045 - accuracy: 0.1080 - val_loss: 2.2566 - val_accuracy: 0.3076\n",
            "Epoch 2/12\n",
            "469/469 [==============================] - 140s 298ms/step - loss: 2.2510 - accuracy: 0.2219 - val_loss: 2.1902 - val_accuracy: 0.5796\n",
            "Epoch 3/12\n",
            "469/469 [==============================] - 140s 299ms/step - loss: 2.1861 - accuracy: 0.3465 - val_loss: 2.1020 - val_accuracy: 0.6446\n",
            "Epoch 4/12\n",
            "469/469 [==============================] - 140s 299ms/step - loss: 2.1011 - accuracy: 0.4333 - val_loss: 1.9828 - val_accuracy: 0.6846\n",
            "Epoch 5/12\n",
            "469/469 [==============================] - 140s 299ms/step - loss: 1.9875 - accuracy: 0.4887 - val_loss: 1.8287 - val_accuracy: 0.7051\n",
            "Epoch 6/12\n",
            "469/469 [==============================] - 140s 298ms/step - loss: 1.8404 - accuracy: 0.5429 - val_loss: 1.6425 - val_accuracy: 0.7304\n",
            "Epoch 7/12\n",
            "469/469 [==============================] - 140s 298ms/step - loss: 1.6803 - accuracy: 0.5752 - val_loss: 1.4448 - val_accuracy: 0.7522\n",
            "Epoch 8/12\n",
            "469/469 [==============================] - 140s 298ms/step - loss: 1.5148 - accuracy: 0.6045 - val_loss: 1.2559 - val_accuracy: 0.7798\n",
            "Epoch 9/12\n",
            "469/469 [==============================] - 140s 298ms/step - loss: 1.3629 - accuracy: 0.6323 - val_loss: 1.0922 - val_accuracy: 0.7991\n",
            "Epoch 10/12\n",
            "469/469 [==============================] - 140s 298ms/step - loss: 1.2241 - accuracy: 0.6684 - val_loss: 0.9591 - val_accuracy: 0.8137\n",
            "Epoch 11/12\n",
            "469/469 [==============================] - 140s 298ms/step - loss: 1.1257 - accuracy: 0.6862 - val_loss: 0.8547 - val_accuracy: 0.8253\n",
            "Epoch 12/12\n",
            "469/469 [==============================] - 139s 297ms/step - loss: 1.0440 - accuracy: 0.7011 - val_loss: 0.7728 - val_accuracy: 0.8363\n"
          ]
        },
        {
          "data": {
            "text/plain": [
              "<tensorflow.python.keras.callbacks.History at 0x7fa7499da490>"
            ]
          },
          "execution_count": null,
          "metadata": {},
          "output_type": "execute_result"
        }
      ]
    },
    {
      "cell_type": "code",
      "metadata": {
        "id": "w1Knk9sVE4J-"
      },
      "source": [
        "# Evaluating the Predictions on the Model\n",
        "\n",
        "score = model.evaluate(x_test, y_test, verbose=0)\n",
        "print('Test loss:', score[0])\n",
        "print('Test accuracy:', score[1])"
      ],
      "execution_count": null,
      "outputs": []
    },
    {
      "cell_type": "code",
      "metadata": {
        "id": "4bTtGV7pE84B"
      },
      "source": [
        "# Saving the model for Future Inferences\n",
        "\n",
        "model_json = model.to_json()\n",
        "with open(\"model.json\", \"w\") as json_file:\n",
        "    json_file.write(model_json)\n",
        "# serialize weights to HDF5\n",
        "model.save_weights(\"model.h5\")"
      ],
      "execution_count": null,
      "outputs": []
    },
    {
      "cell_type": "code",
      "metadata": {
        "id": "8W1nVucIFAQB"
      },
      "source": [
        ""
      ],
      "execution_count": null,
      "outputs": []
    }
  ]
}